{
  "nbformat": 4,
  "nbformat_minor": 0,
  "metadata": {
    "colab": {
      "provenance": [],
      "include_colab_link": true
    },
    "kernelspec": {
      "name": "python3",
      "display_name": "Python 3"
    },
    "language_info": {
      "name": "python"
    }
  },
  "cells": [
    {
      "cell_type": "markdown",
      "metadata": {
        "id": "view-in-github",
        "colab_type": "text"
      },
      "source": [
        "<a href=\"https://colab.research.google.com/github/mahendrasawant26/text-summarizer-nlp/blob/main/text-summarize.ipynb\" target=\"_parent\"><img src=\"https://colab.research.google.com/assets/colab-badge.svg\" alt=\"Open In Colab\"/></a>"
      ]
    },
    {
      "cell_type": "code",
      "source": [
        "import nltk\n",
        "from nltk.tokenize import sent_tokenize, word_tokenize\n",
        "from nltk.corpus import stopwords\n",
        "from nltk.probability import FreqDist\n",
        "from nltk.tokenize.treebank import TreebankWordDetokenizer\n",
        "import string\n",
        "\n",
        "nltk.download('punkt')\n",
        "nltk.download('stopwords')\n",
        "\n",
        "def preprocess_text(text):\n",
        "    # Tokenize the text into words and remove stopwords and punctuation\n",
        "    stop_words = set(stopwords.words('english'))\n",
        "    words = word_tokenize(text)\n",
        "    words = [word.lower() for word in words if word.isalnum()]\n",
        "    words = [word for word in words if word not in stop_words]\n",
        "    return words\n",
        "\n",
        "def calculate_word_frequencies(words):\n",
        "    # Calculate word frequencies using FreqDist\n",
        "    word_freq = FreqDist(words)\n",
        "    return word_freq\n",
        "\n",
        "def calculate_sentence_scores(sentences, word_freq):\n",
        "    # Calculate sentence scores based on word frequencies\n",
        "    sentence_scores = {}\n",
        "    for sentence in sentences:\n",
        "        for word in nltk.word_tokenize(sentence.lower()):\n",
        "            if word in word_freq:\n",
        "                if len(sentence.split(' ')) < 30:  # Limit sentence length\n",
        "                    if sentence not in sentence_scores:\n",
        "                        sentence_scores[sentence] = word_freq[word]\n",
        "                    else:\n",
        "                        sentence_scores[sentence] += word_freq[word]\n",
        "    return sentence_scores\n",
        "\n",
        "def summarize(text):\n",
        "    sentences = sent_tokenize(text)\n",
        "    words = preprocess_text(text)\n",
        "    word_freq = calculate_word_frequencies(words)\n",
        "    sentence_scores = calculate_sentence_scores(sentences, word_freq)\n",
        "\n",
        "    # Sort sentences by score in descending order\n",
        "    sorted_sentences = sorted(sentence_scores.items(), key=lambda x: x[1], reverse=True)\n",
        "\n",
        "    # Select the top 3 sentences as the summary\n",
        "    summary_sentences = [x[0] for x in sorted_sentences[:3]]\n",
        "\n",
        "    # Join the sentences to create the final summary\n",
        "    summary = TreebankWordDetokenizer().detokenize(summary_sentences)\n",
        "    return summary\n",
        "\n",
        "# Example usage\n",
        "text = \"\"\"\n",
        "    The sun was setting, painting the sky with hues of red and orange.\n",
        "    Birds were flying back to their nests, chirping their evening songs.\n",
        "    The cool breeze rustled through the leaves of the trees, bringing a sense of tranquility.\n",
        "    As the day came to a close, people hurried back home, eager to reunite with their loved ones.\n",
        "    The distant sounds of laughter and conversations filled the air. Amidst this, nature was preparing for the night,\n",
        "    with nocturnal creatures starting to stir. The city lights began to flicker, illuminating the urban landscape.\n",
        "    It was a moment of reflection, a pause in the bustling day. A feeling of gratitude for the beauty that surrounds us.\n",
        "    The evening had a magical quality, promising serenity and relaxation. The colors in the sky deepened, hinting at the night's arrival.\n",
        "    Stars began to twinkle, unveiling the vastness of the cosmos. Each moment seemed to slow down, allowing for introspection.\n",
        "    Life, in its simple moments, was truly remarkable. The world seemed to hush, embracing the peaceful transition from day to night.\n",
        "    A sense of calmness enveloped everything, a prelude to the stillness of the night. The moon made its appearance, casting a gentle glow.\n",
        "    It was a reminder of the continuity of time, the ever-moving cycle of nature. The day had left its mark, and now it was time for the night to tell its own story.\n",
        "\"\"\"\n",
        "\n",
        "summary = summarize(text)\n",
        "print(\"Summary:\")\n",
        "print(summary)\n"
      ],
      "metadata": {
        "colab": {
          "base_uri": "https://localhost:8080/"
        },
        "id": "leOCEy8KtSj7",
        "outputId": "3b01b1ee-b34c-4fca-a478-89ad99ced7a9"
      },
      "execution_count": 2,
      "outputs": [
        {
          "output_type": "stream",
          "name": "stdout",
          "text": [
            "Summary:\n",
            "The world seemed to hush, embracing the peaceful transition from day to night. As the day came to a close, people hurried back home, eager to reunite with their loved ones. The day had left its mark, and now it was time for the night to tell its own story.\n"
          ]
        },
        {
          "output_type": "stream",
          "name": "stderr",
          "text": [
            "[nltk_data] Downloading package punkt to /root/nltk_data...\n",
            "[nltk_data]   Package punkt is already up-to-date!\n",
            "[nltk_data] Downloading package stopwords to /root/nltk_data...\n",
            "[nltk_data]   Package stopwords is already up-to-date!\n"
          ]
        }
      ]
    },
    {
      "cell_type": "code",
      "source": [],
      "metadata": {
        "id": "vWXWFCEntSnZ"
      },
      "execution_count": null,
      "outputs": []
    }
  ]
}